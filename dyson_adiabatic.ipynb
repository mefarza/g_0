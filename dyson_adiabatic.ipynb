{
 "cells": [
  {
   "cell_type": "code",
   "execution_count": 3,
   "metadata": {
    "collapsed": false
   },
   "outputs": [
    {
     "name": "stdout",
     "output_type": "stream",
     "text": [
      "Populating the interactive namespace from numpy and matplotlib\n"
     ]
    }
   ],
   "source": [
    "%pylab inline\n"
   ]
  },
  {
   "cell_type": "code",
   "execution_count": 4,
   "metadata": {
    "collapsed": false
   },
   "outputs": [],
   "source": [
    "import scipy as sp\n",
    "from scipy import *\n",
    "from scipy import optimize"
   ]
  },
  {
   "cell_type": "code",
   "execution_count": 5,
   "metadata": {
    "collapsed": false
   },
   "outputs": [],
   "source": [
    "import numpy as np\n",
    "from numpy import matrix as mat\n",
    "from numpy import dot\n",
    "from math import sqrt"
   ]
  },
  {
   "cell_type": "code",
   "execution_count": 74,
   "metadata": {
    "collapsed": true
   },
   "outputs": [],
   "source": [
    "from wavefunction import *\n",
    "from wavefunction.wavefunction1d import *\n",
    "from numpy.polynomial import hermite as he\n",
    "from scipy.special import factorial"
   ]
  },
  {
   "cell_type": "markdown",
   "metadata": {},
   "source": [
    "## Problem parameters"
   ]
  },
  {
   "cell_type": "code",
   "execution_count": 77,
   "metadata": {
    "collapsed": false
   },
   "outputs": [],
   "source": [
    "h = 1\n",
    "h_ = h/(2*pi)\n",
    "e = 1.602e-19\n",
    "cf = 1          # if cf = h_, use units where h_ = 1\n",
    "\n",
    "m_e = 1          # oscillator mass\n",
    "omega = 1 * pi  # oscillator frequency in GHz\n",
    "x0 = 0          # shift in oscillator potiential minimum\n",
    "\n",
    "args = {'w': omega, 'm': mm, 'x0': x0}\n",
    "\n",
    "k = -h_ ** 2 / (2 * mm)\n",
    "\n",
    "x_min = -pi\n",
    "x_max =  pi\n",
    "N_basis = 54\n",
    "N_grid = 100\n",
    "dx = (x_max - x_min)/(N_grid-1)"
   ]
  },
  {
   "cell_type": "code",
   "execution_count": 64,
   "metadata": {
    "collapsed": false
   },
   "outputs": [],
   "source": [
    "def plot(x ,y,opt = None, r =( x_min, x_max) ):\n",
    "    fig, ax = subplots(figsize=(12,8))\n",
    "    Y = y\n",
    "    if opt == None :    \n",
    "        ax.plot(x,Y.real)\n",
    "    elif opt == 1:\n",
    "        ax.plot(Y.real)\n",
    "    ax.set_xlim(r)\n",
    "    ax.set_xlabel(r'$x$', fontsize=18)\n",
    "    #axes[n].set_ylabel(r'$\\Psi_n(x)$', fontsize=18);\n",
    "    fig.tight_layout();\n"
   ]
  },
  {
   "cell_type": "markdown",
   "metadata": {},
   "source": [
    "## Harmonic potential"
   ]
  },
  {
   "cell_type": "code",
   "execution_count": 65,
   "metadata": {
    "collapsed": true
   },
   "outputs": [],
   "source": [
    "def U_ho(x, args):\n",
    "    \"\"\"\n",
    "    Harmonic oscillator potential\n",
    "    \"\"\"\n",
    "    \n",
    "    omega = args['w']\n",
    "    m     = args['m']\n",
    "    x0    = args['x0']\n",
    "    \n",
    "    u = 1/2.0 * m * (omega ** 2) * ((x - x0) ** 2)\n",
    "\n",
    "    return u"
   ]
  },
  {
   "cell_type": "markdown",
   "metadata": {},
   "source": [
    "## Find the minimum point for the potential"
   ]
  },
  {
   "cell_type": "code",
   "execution_count": 66,
   "metadata": {
    "collapsed": false
   },
   "outputs": [
    {
     "name": "stdout",
     "output_type": "stream",
     "text": [
      "Optimization terminated successfully.\n",
      "         Current function value: 0.000000\n",
      "         Iterations: 3\n",
      "         Function evaluations: 6\n"
     ]
    }
   ],
   "source": [
    "x = linspace(x_min, x_max, N)\n",
    "U = U_ho(x, args);\n",
    "x_opt_min = optimize.fmin(U_ho, [0.0], (args,))"
   ]
  },
  {
   "cell_type": "markdown",
   "metadata": {},
   "source": [
    "## Plot the potential"
   ]
  },
  {
   "cell_type": "code",
   "execution_count": 67,
   "metadata": {
    "collapsed": false,
    "scrolled": true
   },
   "outputs": [
    {
     "data": {
      "image/png": "[encoded data removed]",
      "text/plain": [
       "<matplotlib.figure.Figure at 0x10e1a4f28>"
      ]
     },
     "metadata": {},
     "output_type": "display_data"
    }
   ],
   "source": [
    "fig, ax = subplots()\n",
    "\n",
    "ax.plot(x, U)\n",
    "ax.plot(x_opt_min, U_ho(x_opt_min, args), 'o')\n",
    "\n",
    "ax.set_ylim(-1, 30)\n",
    "ax.set_xlabel(r'$x$', fontsize=18)\n",
    "ax.set_ylabel(r'$U(x)$', fontsize=18);"
   ]
  },
  {
   "cell_type": "markdown",
   "metadata": {},
   "source": [
    "## Creation and annihilation operators"
   ]
  },
  {
   "cell_type": "code",
   "execution_count": 68,
   "metadata": {
    "collapsed": false
   },
   "outputs": [],
   "source": [
    "def create_a(N_basis):\n",
    "    a = mat([[0. for x in range(N_basis)] for x in range(N_basis)])\n",
    "    for n in range(N_basis-1):\n",
    "        a[n, n+1] = sqrt(n+1)\n",
    "    return a\n",
    "def create_ad(N_basis):\n",
    "    ad = mat([[0. for x in range(N_basis)] for x in range(N_basis)])\n",
    "    for n in range(N_basis-1):\n",
    "        ad[n+1, n] = sqrt(n+1)\n",
    "    return ad"
   ]
  },
  {
   "cell_type": "markdown",
   "metadata": {},
   "source": [
    "## Delta function matrix "
   ]
  },
  {
   "cell_type": "code",
   "execution_count": 69,
   "metadata": {
    "collapsed": false
   },
   "outputs": [],
   "source": [
    "def create_delta(N_basis):\n",
    "    delta = mat([[0. for x in range(N_basis)] for x in range(N_basis)])\n",
    "    for n in range(N_basis):\n",
    "        delta[n, n] = 1.\n",
    "    return delta\n",
    "\n",
    "delta = create_delta(N_basis)"
   ]
  },
  {
   "cell_type": "markdown",
   "metadata": {},
   "source": [
    "## Hermite basis set "
   ]
  },
  {
   "cell_type": "code",
   "execution_count": 70,
   "metadata": {
    "collapsed": false
   },
   "outputs": [],
   "source": [
    "def gs(x,omega = omega,h_= h_, m_e = m_e):\n",
    "    \"\"\" compute ground state\n",
    "    Args:\n",
    "        x : float \n",
    "            position\n",
    "        n : intiger\n",
    "            plynimial order\n",
    "        omega : float\n",
    "            frequency\n",
    "        h_ : float\n",
    "            hbar\n",
    "        m_e : float\n",
    "            electron mass\n",
    "    \"\"\"\n",
    "    gs = sqrt(sqrt((m_e * omega)/(pi * h_))) * exp(- (m_e * omega * x**2)/(2 * h_))\n",
    "    return gs"
   ]
  },
  {
   "cell_type": "code",
   "execution_count": 71,
   "metadata": {
    "collapsed": true
   },
   "outputs": [],
   "source": [
    "def H_ren(x,n ,omega = omega,h_= h_, m_e = m_e):\n",
    "    \"\"\"\n",
    "    Compute the Hermite polynomials\n",
    "    Args:\n",
    "        x : float \n",
    "            position\n",
    "        n : intiger\n",
    "            plynimial order\n",
    "        omega : float\n",
    "            frequency\n",
    "        h_ : float\n",
    "            hbar\n",
    "        m_e : float\n",
    "            electron mass\n",
    "    \"\"\"\n",
    "    index_list = [0 for i in arange(n)]\n",
    "    index_list.append(1)\n",
    "    return he.hermval(sqrt((m_e * omega)/ h_) * x, index_list)  "
   ]
  },
  {
   "cell_type": "code",
   "execution_count": 72,
   "metadata": {
    "collapsed": false
   },
   "outputs": [],
   "source": [
    "def create_basis(N_grid = N_grid, N_basis= N_basis, r= (x_min, x_max)):\n",
    "    \"\"\"\n",
    "    Creates basis set\n",
    "    Args:\n",
    "        x : float \n",
    "            position\n",
    "        n : intiger\n",
    "            plynimial order\n",
    "        omega : float\n",
    "            frequency\n",
    "        h_ : float\n",
    "            hbar\n",
    "        m_e : float\n",
    "            electron mass\n",
    "    Return:\n",
    "        basis_ste : matrix (N_basis x N_grid)\n",
    "    \"\"\"\n",
    "    basis_set = zeros((N_basis, N_grid)).astype(np.complex)\n",
    "    dx = (x_max - x_min)/(N_grid-1)\n",
    "    for n in arange(N_basis):\n",
    "        basis_set[n] = [gs(dx * i +x_min) * H_ren(dx * i +x_min, n) for i in arange(N_grid)] \n",
    "        basis_set[n] =  basis_set[n]/sqrt(2**n * factorial(n, exact = False))#*sqrt(np.dot(np.conj(basis_set[n]),basis_set[n])))\n",
    "    return basis_set"
   ]
  },
  {
   "cell_type": "code",
   "execution_count": 75,
   "metadata": {
    "collapsed": false
   },
   "outputs": [],
   "source": [
    "basis_set =create_basis();"
   ]
  },
  {
   "cell_type": "markdown",
   "metadata": {},
   "source": [
    "## projection operator"
   ]
  },
  {
   "cell_type": "code",
   "execution_count": 91,
   "metadata": {
    "collapsed": true
   },
   "outputs": [],
   "source": [
    "def project_op(i,j, basis_set = basis_set):\n",
    "    \"\"\"\n",
    "    It takes \"i\"th and \"j\"th basis in the position representation and returns the projection |i><j| \n",
    "    in the position space.\n",
    "    Args:\n",
    "        i,j : int \n",
    "            index\n",
    "         basis_set : matrix (N_basis x N_grid)\n",
    "    Return:\n",
    "        proj_ij : matrix (N_grid x N_grid)\n",
    "    \"\"\"\n",
    "    proj_ij = zeros(( shape(basis_set[0])[0], shape(basis_set[0])[0])).astype(np.complex)\n",
    "    b_i = basis_set[i]\n",
    "    b_j = basis_set[j]\n",
    "    x_grid = arange(shape(basis_set[0])[0])\n",
    "    for l in x_grid:\n",
    "        for k in x_grid:\n",
    "            proj_ij[l,k] = b_i[l] * conj(b_j[k])\n",
    "#        print(proj_ij[l,k])\n",
    "    return proj_ij"
   ]
  },
  {
   "cell_type": "markdown",
   "metadata": {},
   "source": [
    "## Testing ortonormality "
   ]
  },
  {
   "cell_type": "code",
   "execution_count": 79,
   "metadata": {
    "collapsed": false
   },
   "outputs": [
    {
     "data": {
      "text/plain": [
       "array([[  1.00000000e+00+0.j,   3.12234693e-16+0.j,  -6.73792778e-17+0.j,\n",
       "        ...,  -9.01913470e-16+0.j,  -1.18835123e-15+0.j,\n",
       "          7.60989490e-16+0.j],\n",
       "       [  3.12234693e-16+0.j,   1.00000000e+00+0.j,  -2.73040211e-17+0.j,\n",
       "        ...,  -3.57294843e-16+0.j,  -5.35511123e-16+0.j,\n",
       "          2.66275167e-16+0.j],\n",
       "       [ -6.73792778e-17+0.j,  -2.73040211e-17+0.j,   1.00000000e+00+0.j,\n",
       "        ...,  -1.84610413e-15+0.j,   6.60329996e-16+0.j,\n",
       "          2.09976730e-15+0.j],\n",
       "       ..., \n",
       "       [ -9.01913470e-16+0.j,  -3.57294843e-16+0.j,  -1.84610413e-15+0.j,\n",
       "        ...,   1.00018839e+00+0.j,   4.10088781e-15+0.j,\n",
       "         -4.51062526e-04+0.j],\n",
       "       [ -1.18835123e-15+0.j,  -5.35511123e-16+0.j,   6.60329996e-16+0.j,\n",
       "        ...,   4.10088781e-15+0.j,   9.99547204e-01+0.j,\n",
       "          4.79141531e-16+0.j],\n",
       "       [  7.60989490e-16+0.j,   2.66275167e-16+0.j,   2.09976730e-15+0.j,\n",
       "        ...,  -4.51062526e-04+0.j,   4.79141531e-16+0.j,\n",
       "          1.00103910e+00+0.j]])"
      ]
     },
     "execution_count": 79,
     "metadata": {},
     "output_type": "execute_result"
    }
   ],
   "source": [
    "overlap_matrix = zeros((N_basis, N_basis)).astype(np.complex)\n",
    "for i in arange(N_basis):\n",
    "    overlap_matrix[i] = [dx *np.dot(np.conj(basis_set[i])\\\n",
    "              ,basis_set[j]) for j in arange(N_basis)] \n",
    "\n",
    "overlap_matrix"
   ]
  },
  {
   "cell_type": "code",
   "execution_count": 34,
   "metadata": {
    "collapsed": false
   },
   "outputs": [],
   "source": [
    "a_op = create_a(N_basis)\n",
    "ad_op = create_ad (N_basis)"
   ]
  },
  {
   "cell_type": "markdown",
   "metadata": {},
   "source": [
    "## Kintetic enery operator in the harmic oscillator basis using ladder operators"
   ]
  },
  {
   "cell_type": "code",
   "execution_count": 36,
   "metadata": {
    "collapsed": false
   },
   "outputs": [],
   "source": [
    "t_op = - (dot(ad_op , ad_op) + dot(a_op , a_op) - dot(ad_op , a_op) - dot(a_op , ad_op) )*(h_ * omega )/2"
   ]
  },
  {
   "cell_type": "markdown",
   "metadata": {},
   "source": [
    "## Harmonic potential in the harmic oscillator basis using ladder operators"
   ]
  },
  {
   "cell_type": "code",
   "execution_count": 88,
   "metadata": {
    "collapsed": false
   },
   "outputs": [],
   "source": [
    "u_basis = 1/4.0 *h_ * omega *  (dot(ad_op , ad_op) + dot(a_op , a_op) + dot(ad_op , a_op) + dot(a_op , ad_op) )"
   ]
  },
  {
   "cell_type": "markdown",
   "metadata": {},
   "source": [
    "## Initializing functions for matrices"
   ]
  },
  {
   "cell_type": "code",
   "execution_count": 37,
   "metadata": {
    "collapsed": false
   },
   "outputs": [],
   "source": [
    "def create_g(N_basis):\n",
    "    g = mat([[0. for i in arange(N_basis)] for i in arange(N_basis)])\n",
    "    return g"
   ]
  },
  {
   "cell_type": "code",
   "execution_count": 38,
   "metadata": {
    "collapsed": true
   },
   "outputs": [],
   "source": [
    "def init_potential(density):\n",
    "    potential = mat([[0. for i in arange(N_basis)] for i in arange(N_basis)])\n",
    "    return potential\n",
    "def init_density(time = 0):\n",
    "    density = mat([[5 for i in arange(N_basis)] for i in arange(N_basis)])\n",
    "    return density"
   ]
  },
  {
   "cell_type": "code",
   "execution_count": 83,
   "metadata": {
    "collapsed": false
   },
   "outputs": [],
   "source": [
    "gf_w = create_g(N_basis)\n",
    "hamiltonian = t_op + u_basis\n",
    "density = init_density()\n",
    "v_tilde = init_potential(density)"
   ]
  },
  {
   "cell_type": "code",
   "execution_count": 84,
   "metadata": {
    "collapsed": true
   },
   "outputs": [],
   "source": [
    "green_f = dict({})\n",
    "af = {}"
   ]
  },
  {
   "cell_type": "code",
   "execution_count": 89,
   "metadata": {
    "collapsed": false
   },
   "outputs": [],
   "source": [
    "for omega in np.arange(0,1,0.1):\n",
    "    gf_w = dot(linalg.inv(np.add( omega * delta  - hamiltonian , - v_tilde)),delta)\n",
    "    green_f.update({omega:gf_w})"
   ]
  },
  {
   "cell_type": "code",
   "execution_count": 90,
   "metadata": {
    "collapsed": false
   },
   "outputs": [
    {
     "data": {
      "text/plain": [
       "{0.0: matrix([[ -2.79479060e+00,   0.00000000e+00,  -2.71791903e-01, ...,\n",
       "            0.00000000e+00,  -4.49585875e-21,   0.00000000e+00],\n",
       "         [  0.00000000e+00,  -9.18955855e-01,   0.00000000e+00, ...,\n",
       "           -1.32211732e-20,   0.00000000e+00,  -4.36528373e-21],\n",
       "         [ -2.71791903e-01,   0.00000000e+00,  -5.76557693e-01, ...,\n",
       "            0.00000000e+00,  -9.53715664e-21,   0.00000000e+00],\n",
       "         ..., \n",
       "         [  0.00000000e+00,  -1.32211732e-20,   0.00000000e+00, ...,\n",
       "           -2.82857447e-02,   0.00000000e+00,  -9.33920912e-03],\n",
       "         [ -4.49585875e-21,   0.00000000e+00,  -9.53715664e-21, ...,\n",
       "            0.00000000e+00,  -2.61446630e-02,   0.00000000e+00],\n",
       "         [  0.00000000e+00,  -4.36528373e-21,   0.00000000e+00, ...,\n",
       "           -9.33920912e-03,   0.00000000e+00,  -5.33980267e-02]]),\n",
       " 0.10000000000000001: matrix([[ -3.89425964e+00,   0.00000000e+00,  -4.01192030e-01, ...,\n",
       "            0.00000000e+00,  -8.04360387e-21,   0.00000000e+00],\n",
       "         [  0.00000000e+00,  -1.01352523e+00,   0.00000000e+00, ...,\n",
       "           -1.80751069e-20,   0.00000000e+00,  -5.99810413e-21],\n",
       "         [ -4.01192030e-01,   0.00000000e+00,  -6.24108331e-01, ...,\n",
       "            0.00000000e+00,  -1.25129110e-20,   0.00000000e+00],\n",
       "         ..., \n",
       "         [  0.00000000e+00,  -1.80751069e-20,   0.00000000e+00, ...,\n",
       "           -2.83773512e-02,   0.00000000e+00,  -9.41683549e-03],\n",
       "         [ -8.04360387e-21,   0.00000000e+00,  -1.25129110e-20, ...,\n",
       "            0.00000000e+00,  -2.62153730e-02,   0.00000000e+00],\n",
       "         [  0.00000000e+00,  -5.99810413e-21,   0.00000000e+00, ...,\n",
       "           -9.41683549e-03,   0.00000000e+00,  -5.36938144e-02]]),\n",
       " 0.20000000000000001: matrix([[ -6.42518160e+00,   0.00000000e+00,  -7.03751025e-01, ...,\n",
       "            0.00000000e+00,  -1.71494305e-20,   0.00000000e+00],\n",
       "         [  0.00000000e+00,  -1.12996493e+00,   0.00000000e+00, ...,\n",
       "           -2.50777521e-20,   0.00000000e+00,  -8.36418217e-21],\n",
       "         [ -7.03751025e-01,   0.00000000e+00,  -6.96677971e-01, ...,\n",
       "            0.00000000e+00,  -1.69770700e-20,   0.00000000e+00],\n",
       "         ..., \n",
       "         [  0.00000000e+00,  -2.50777521e-20,   0.00000000e+00, ...,\n",
       "           -2.84696586e-02,   0.00000000e+00,  -9.49548468e-03],\n",
       "         [ -1.71494305e-20,   0.00000000e+00,  -1.69770700e-20, ...,\n",
       "            0.00000000e+00,  -2.62864793e-02,   0.00000000e+00],\n",
       "         [  0.00000000e+00,  -8.36418217e-21,   0.00000000e+00, ...,\n",
       "           -9.49548468e-03,   0.00000000e+00,  -5.39929500e-02]]),\n",
       " 0.30000000000000004: matrix([[ -1.84060530e+01,   0.00000000e+00,  -2.15217268e+00, ...,\n",
       "            0.00000000e+00,  -6.39302305e-20,   0.00000000e+00],\n",
       "         [  0.00000000e+00,  -1.27688410e+00,   0.00000000e+00, ...,\n",
       "           -3.54132204e-20,   0.00000000e+00,  -1.18717098e-20],\n",
       "         [ -2.15217268e+00,   0.00000000e+00,  -9.13089537e-01, ...,\n",
       "            0.00000000e+00,  -2.71232997e-20,   0.00000000e+00],\n",
       "         ..., \n",
       "         [  0.00000000e+00,  -3.54132204e-20,   0.00000000e+00, ...,\n",
       "           -2.85626762e-02,   0.00000000e+00,  -9.57517555e-03],\n",
       "         [ -6.39302305e-20,   0.00000000e+00,  -2.71232997e-20, ...,\n",
       "            0.00000000e+00,  -2.63579853e-02,   0.00000000e+00],\n",
       "         [  0.00000000e+00,  -1.18717098e-20,   0.00000000e+00, ...,\n",
       "           -9.57517555e-03,   0.00000000e+00,  -5.42954912e-02]]),\n",
       " 0.40000000000000002: matrix([[  2.12001179e+01,   0.00000000e+00,   2.65870483e+00, ...,\n",
       "            0.00000000e+00,   9.65662084e-20,   0.00000000e+00],\n",
       "         [  0.00000000e+00,  -1.46810073e+00,   0.00000000e+00, ...,\n",
       "           -5.11084471e-20,   0.00000000e+00,  -1.72212566e-20],\n",
       "         [  2.65870483e+00,   0.00000000e+00,  -3.75997643e-01, ...,\n",
       "            0.00000000e+00,  -1.36565242e-20,   0.00000000e+00],\n",
       "         ..., \n",
       "         [  0.00000000e+00,  -5.11084471e-20,   0.00000000e+00, ...,\n",
       "           -2.86564137e-02,   0.00000000e+00,  -9.65592738e-03],\n",
       "         [  9.65662084e-20,   0.00000000e+00,  -1.36565242e-20, ...,\n",
       "            0.00000000e+00,  -2.64298946e-02,   0.00000000e+00],\n",
       "         [  0.00000000e+00,  -1.72212566e-20,   0.00000000e+00, ...,\n",
       "           -9.65592738e-03,   0.00000000e+00,  -5.46014968e-02]]),\n",
       " 0.5: matrix([[  6.71561228e+00,   0.00000000e+00,   9.08199269e-01, ...,\n",
       "            0.00000000e+00,   4.04628448e-20,   0.00000000e+00],\n",
       "         [  0.00000000e+00,  -1.72728583e+00,   0.00000000e+00, ...,\n",
       "           -7.58388191e-20,   0.00000000e+00,  -2.56861770e-20],\n",
       "         [  9.08199269e-01,   0.00000000e+00,  -6.42193862e-01, ...,\n",
       "            0.00000000e+00,  -2.86115519e-20,   0.00000000e+00],\n",
       "         ..., \n",
       "         [  0.00000000e+00,  -7.58388191e-20,   0.00000000e+00, ...,\n",
       "           -2.87508808e-02,   0.00000000e+00,  -9.73775992e-03],\n",
       "         [  4.04628448e-20,   0.00000000e+00,  -2.86115519e-20, ...,\n",
       "            0.00000000e+00,  -2.65022105e-02,   0.00000000e+00],\n",
       "         [  0.00000000e+00,  -2.56861770e-20,   0.00000000e+00, ...,\n",
       "           -9.73775992e-03,   0.00000000e+00,  -5.49110272e-02]]),\n",
       " 0.60000000000000009: matrix([[  3.98496133e+00,   0.00000000e+00,   5.84826523e-01, ...,\n",
       "            0.00000000e+00,   3.20693596e-20,   0.00000000e+00],\n",
       "         [  0.00000000e+00,  -2.09865618e+00,   0.00000000e+00, ...,\n",
       "           -1.16810087e-19,   0.00000000e+00,  -3.97681676e-20],\n",
       "         [  5.84826523e-01,   0.00000000e+00,  -7.44362640e-01, ...,\n",
       "            0.00000000e+00,  -4.08176310e-20,   0.00000000e+00],\n",
       "         ..., \n",
       "         [  0.00000000e+00,  -1.16810087e-19,   0.00000000e+00, ...,\n",
       "           -2.88460877e-02,   0.00000000e+00,  -9.82069340e-03],\n",
       "         [  3.20693596e-20,   0.00000000e+00,  -4.08176310e-20, ...,\n",
       "            0.00000000e+00,  -2.65749369e-02,   0.00000000e+00],\n",
       "         [  0.00000000e+00,  -3.97681676e-20,   0.00000000e+00, ...,\n",
       "           -9.82069340e-03,   0.00000000e+00,  -5.52241441e-02]]),\n",
       " 0.70000000000000007: matrix([[  2.82993463e+00,   0.00000000e+00,   4.54082736e-01, ...,\n",
       "            0.00000000e+00,   3.07563565e-20,   0.00000000e+00],\n",
       "         [  0.00000000e+00,  -2.67545493e+00,   0.00000000e+00, ...,\n",
       "           -1.89821547e-19,   0.00000000e+00,  -6.49620551e-20],\n",
       "         [  4.54082736e-01,   0.00000000e+00,  -8.34820952e-01, ...,\n",
       "            0.00000000e+00,  -5.65448735e-20,   0.00000000e+00],\n",
       "         ..., \n",
       "         [  0.00000000e+00,  -1.89821547e-19,   0.00000000e+00, ...,\n",
       "           -2.89420445e-02,   0.00000000e+00,  -9.90474854e-03],\n",
       "         [  3.07563565e-20,   0.00000000e+00,  -5.65448735e-20, ...,\n",
       "            0.00000000e+00,  -2.66480772e-02,   0.00000000e+00],\n",
       "         [  0.00000000e+00,  -6.49620551e-20,   0.00000000e+00, ...,\n",
       "           -9.90474854e-03,   0.00000000e+00,  -5.55409108e-02]]),\n",
       " 0.80000000000000004: matrix([[  2.19157501e+00,   0.00000000e+00,   3.87950582e-01, ...,\n",
       "            0.00000000e+00,   3.25800178e-20,   0.00000000e+00],\n",
       "         [  0.00000000e+00,  -3.69398869e+00,   0.00000000e+00, ...,\n",
       "           -3.36087775e-19,   0.00000000e+00,  -1.15621284e-19],\n",
       "         [  3.87950582e-01,   0.00000000e+00,  -9.32696457e-01, ...,\n",
       "            0.00000000e+00,  -7.83276751e-20,   0.00000000e+00],\n",
       "         ..., \n",
       "         [  0.00000000e+00,  -3.36087775e-19,   0.00000000e+00, ...,\n",
       "           -2.90387617e-02,   0.00000000e+00,  -9.98994656e-03],\n",
       "         [  3.25800178e-20,   0.00000000e+00,  -7.83276751e-20, ...,\n",
       "            0.00000000e+00,  -2.67216351e-02,   0.00000000e+00],\n",
       "         [  0.00000000e+00,  -1.15621284e-19,   0.00000000e+00, ...,\n",
       "           -9.98994656e-03,   0.00000000e+00,  -5.58613919e-02]]),\n",
       " 0.90000000000000002: matrix([[  1.78601616e+00,   0.00000000e+00,   3.52656873e-01, ...,\n",
       "            0.00000000e+00,   3.68672183e-20,   0.00000000e+00],\n",
       "         [  0.00000000e+00,  -5.97885148e+00,   0.00000000e+00, ...,\n",
       "           -7.02137236e-19,   0.00000000e+00,  -2.42823011e-19],\n",
       "         [  3.52656873e-01,   0.00000000e+00,  -1.04733748e+00, ...,\n",
       "            0.00000000e+00,  -1.09490052e-19,   0.00000000e+00],\n",
       "         ..., \n",
       "         [  0.00000000e+00,  -7.02137236e-19,   0.00000000e+00, ...,\n",
       "           -2.91362498e-02,   0.00000000e+00,  -1.00763092e-02],\n",
       "         [  3.68672183e-20,   0.00000000e+00,  -1.09490052e-19, ...,\n",
       "            0.00000000e+00,  -2.67956143e-02,   0.00000000e+00],\n",
       "         [  0.00000000e+00,  -2.42823011e-19,   0.00000000e+00, ...,\n",
       "           -1.00763092e-02,   0.00000000e+00,  -5.61856538e-02]])}"
      ]
     },
     "execution_count": 90,
     "metadata": {},
     "output_type": "execute_result"
    }
   ],
   "source": [
    "green_f"
   ]
  },
  {
   "cell_type": "code",
   "execution_count": null,
   "metadata": {
    "collapsed": true
   },
   "outputs": [],
   "source": []
  }
 ],
 "metadata": {
  "kernelspec": {
   "display_name": "Python 3",
   "language": "python",
   "name": "python3"
  },
  "language_info": {
   "codemirror_mode": {
    "name": "ipython",
    "version": 3
   },
   "file_extension": ".py",
   "mimetype": "text/x-python",
   "name": "python",
   "nbconvert_exporter": "python",
   "pygments_lexer": "ipython3",
   "version": "3.5.2"
  }
 },
 "nbformat": 4,
 "nbformat_minor": 1
}
